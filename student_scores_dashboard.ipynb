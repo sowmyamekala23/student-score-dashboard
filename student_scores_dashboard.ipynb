{
 "cells": [
  {
   "cell_type": "code",
   "execution_count": 89,
   "id": "f0e098dd-7061-4287-95f4-90f1a2d72ac3",
   "metadata": {},
   "outputs": [
    {
     "name": "stdout",
     "output_type": "stream",
     "text": [
      ""
     ]
    }
   ],
   "source": [
    "import numpy as np"
   ]
  },
  {
   "cell_type": "markdown",
   "id": "892c22d2-bb63-4631-bb29-47ff2e457c28",
   "metadata": {},
   "source": [
    "##### Setting a seed for reproducibility"
   ]
  },
  {
   "cell_type": "code",
   "execution_count": 59,
   "id": "6a3ab229-6a72-43a3-9dc1-fac3c8395cef",
   "metadata": {},
   "outputs": [],
   "source": [
    "np.random.seed(4)"
   ]
  },
  {
   "cell_type": "markdown",
   "id": "d5edb4b7-39fd-4457-bcf0-27649577f187",
   "metadata": {},
   "source": [
    "##### Defining number of students and subjects"
   ]
  },
  {
   "cell_type": "code",
   "execution_count": 60,
   "id": "35336b5a-5f74-49c8-ba38-7d41dfaec004",
   "metadata": {},
   "outputs": [],
   "source": [
    "\n",
    "students = 100"
   ]
  },
  {
   "cell_type": "code",
   "execution_count": 61,
   "id": "f2e171c4-6382-4843-af11-950054875f73",
   "metadata": {},
   "outputs": [],
   "source": [
    "subjects = 5"
   ]
  },
  {
   "cell_type": "markdown",
   "id": "1499f757-5d02-452c-baf7-d8fc2b615153",
   "metadata": {},
   "source": [
    "##### Generating scores: each row is a student, each column is a subject"
   ]
  },
  {
   "cell_type": "code",
   "execution_count": 62,
   "id": "86674977-3646-45c1-ae2d-092baa749412",
   "metadata": {},
   "outputs": [],
   "source": [
    "scores = np.random.randint(50,101,size = (100,5))"
   ]
  },
  {
   "cell_type": "markdown",
   "id": "d89f7422-1c8b-4c5b-b0d8-d6b59d61dfc0",
   "metadata": {},
   "source": [
    "##### For each of the 5 subjects (columns), calculate: Average score,Minimum score,Maximum score"
   ]
  },
  {
   "cell_type": "code",
   "execution_count": 63,
   "id": "3c63ce78-1d8b-49ae-92af-1a8bc25c0f12",
   "metadata": {},
   "outputs": [],
   "source": [
    "minimum_score = scores.min(axis=0)"
   ]
  },
  {
   "cell_type": "code",
   "execution_count": 64,
   "id": "a7ea24db-c8b8-4e53-b55a-749bce05ed71",
   "metadata": {},
   "outputs": [],
   "source": [
    "average_score = scores.mean(axis=0)"
   ]
  },
  {
   "cell_type": "code",
   "execution_count": 65,
   "id": "7344fec4-aef6-4081-8a14-6a6e545aea76",
   "metadata": {},
   "outputs": [],
   "source": [
    "maximum_score = scores.max(axis=0)"
   ]
  },
  {
   "cell_type": "code",
   "execution_count": 66,
   "id": "b09eb386-d1b7-4006-bd09-e3597f213df6",
   "metadata": {},
   "outputs": [
    {
     "name": "stdout",
     "output_type": "stream",
     "text": [
      "Subject-wise minimum score :  [50 50 51 50 50]\n"
     ]
    }
   ],
   "source": [
    "print(\"Subject-wise minimum score : \",minimum_score)"
   ]
  },
  {
   "cell_type": "code",
   "execution_count": 67,
   "id": "03e8d198-68f6-449c-a48d-0f419d9a7849",
   "metadata": {},
   "outputs": [
    {
     "name": "stdout",
     "output_type": "stream",
     "text": [
      "Subject-wise average score :  [76.72 76.45 74.23 77.12 73.73]\n"
     ]
    }
   ],
   "source": [
    "print(\"Subject-wise average score : \",average_score)"
   ]
  },
  {
   "cell_type": "code",
   "execution_count": 68,
   "id": "77cddfb0-0502-4e0e-90e8-1477295b8251",
   "metadata": {},
   "outputs": [
    {
     "name": "stdout",
     "output_type": "stream",
     "text": [
      "Subject-wise maximum score :  [100 100 100 100 100]\n"
     ]
    }
   ],
   "source": [
    "print(\"Subject-wise maximum score : \",maximum_score)"
   ]
  },
  {
   "cell_type": "markdown",
   "id": "ddfc5525-087c-4ba2-b2aa-d3d1bde9b3cb",
   "metadata": {},
   "source": [
    "##### Identify best and worst students : We compute total score per student and find the highest and lowest scorers."
   ]
  },
  {
   "cell_type": "code",
   "execution_count": 69,
   "id": "bf048690-ab73-4dea-8a2b-dc7560acec21",
   "metadata": {},
   "outputs": [],
   "source": [
    "total_score = scores.sum(axis=1)"
   ]
  },
  {
   "cell_type": "code",
   "execution_count": 70,
   "id": "a03cfd72-3dd1-44e6-b750-a890d733174d",
   "metadata": {},
   "outputs": [],
   "source": [
    "best_student = np.argmax(total_score)"
   ]
  },
  {
   "cell_type": "code",
   "execution_count": 71,
   "id": "823669a9-fc31-4f88-b47f-8982abaf58cc",
   "metadata": {},
   "outputs": [],
   "source": [
    "worst_student = np.argmin(total_score)"
   ]
  },
  {
   "cell_type": "code",
   "execution_count": 72,
   "id": "be765083-4fe9-4215-ab0e-89d83db51ea9",
   "metadata": {},
   "outputs": [
    {
     "name": "stdout",
     "output_type": "stream",
     "text": [
      "Best student: index 24 with 453 points\n"
     ]
    }
   ],
   "source": [
    "print(f\"Best student: index {best_student} with {total_score[best_student]} points\")"
   ]
  },
  {
   "cell_type": "code",
   "execution_count": 73,
   "id": "c4adee3c-fca5-42d3-9083-b4c72b1c06d5",
   "metadata": {},
   "outputs": [
    {
     "name": "stdout",
     "output_type": "stream",
     "text": [
      "Worst student: index 25 with 316 points\n"
     ]
    }
   ],
   "source": [
    "print(f\"Worst student: index {worst_student} with {total_score[worst_student]} points\")"
   ]
  },
  {
   "cell_type": "markdown",
   "id": "26811094-f688-48d6-882c-edbdc1517aa2",
   "metadata": {},
   "source": [
    "##### Count students scoring above 90 in at least one subject"
   ]
  },
  {
   "cell_type": "code",
   "execution_count": 74,
   "id": "81fc7a14-5430-455d-8854-cb7650746b24",
   "metadata": {},
   "outputs": [],
   "source": [
    "score_above_90 = (scores>90).any(axis = 1).sum()"
   ]
  },
  {
   "cell_type": "code",
   "execution_count": 75,
   "id": "6ab50df6-37ef-40f4-ad44-0994a9c02849",
   "metadata": {},
   "outputs": [
    {
     "name": "stdout",
     "output_type": "stream",
     "text": [
      "Number of students scoring >90 in any subject: 67\n"
     ]
    }
   ],
   "source": [
    "print(f\"Number of students scoring >90 in any subject: {score_above_90}\")"
   ]
  },
  {
   "cell_type": "markdown",
   "id": "30fa9e13-80e6-4ab0-8027-fce98dfbdc5d",
   "metadata": {},
   "source": [
    "##### Median Student Score : What is the median (50th percentile) of total scores?"
   ]
  },
  {
   "cell_type": "code",
   "execution_count": 80,
   "id": "3d615175-6333-4256-bb12-c9259e16c5ad",
   "metadata": {},
   "outputs": [],
   "source": [
    "median_score = np.percentile(total_score, 50)"
   ]
  },
  {
   "cell_type": "code",
   "execution_count": 79,
   "id": "2524097a-f759-4f61-be5f-26cb3e03902f",
   "metadata": {},
   "outputs": [
    {
     "name": "stdout",
     "output_type": "stream",
     "text": [
      "Median (50th percentile) total score: 378.0\n"
     ]
    }
   ],
   "source": [
    "print(f\"Median (50th percentile) total score: {median_score}\")"
   ]
  },
  {
   "cell_type": "markdown",
   "id": "f49e3306-2d42-44e4-99d9-ba79b8105860",
   "metadata": {},
   "source": [
    "##### Top 10% Threshold : What is the minimum score required to be in the top 10% of students?"
   ]
  },
  {
   "cell_type": "code",
   "execution_count": 81,
   "id": "a5ea4bb3-b6a5-41c5-a5c6-8666eef26cd4",
   "metadata": {},
   "outputs": [],
   "source": [
    "top_threshold = np.percentile(total_score, 90)"
   ]
  },
  {
   "cell_type": "code",
   "execution_count": 82,
   "id": "c2e35fc1-6de5-42b6-a9cb-a015bb186c6a",
   "metadata": {},
   "outputs": [
    {
     "name": "stdout",
     "output_type": "stream",
     "text": [
      "Top (10%) Threshold total score: 414.20000000000005\n"
     ]
    }
   ],
   "source": [
    "print(f\"Top (10%) Threshold total score: {top_threshold}\")"
   ]
  },
  {
   "cell_type": "markdown",
   "id": "c4815567-f356-4e70-9e77-b2fc79e75036",
   "metadata": {},
   "source": [
    "##### Number of Students in Top 10% : How many students scored above the 90th percentile?"
   ]
  },
  {
   "cell_type": "code",
   "execution_count": 83,
   "id": "f0a1d833-786f-4a55-b383-6acc5b6fecef",
   "metadata": {},
   "outputs": [],
   "source": [
    "top_students = (total_score >= top_threshold).sum()"
   ]
  },
  {
   "cell_type": "code",
   "execution_count": 84,
   "id": "2db4e86a-c644-46f0-9e51-c437ae1c77f1",
   "metadata": {},
   "outputs": [
    {
     "name": "stdout",
     "output_type": "stream",
     "text": [
      "Number of student scored above 90th percentile: 10\n"
     ]
    }
   ],
   "source": [
    "print(f\"Number of student scored above 90th percentile: {top_students}\")"
   ]
  },
  {
   "cell_type": "markdown",
   "id": "a45ad864-af19-45cd-a36f-0ebc3345b84d",
   "metadata": {},
   "source": [
    "##### Bottom 10% Threshold : What is the maximum score among the bottom 10% of students?"
   ]
  },
  {
   "cell_type": "code",
   "execution_count": 96,
   "id": "0ad6ce2c-e7ac-4223-9dc4-048078fecd75",
   "metadata": {},
   "outputs": [],
   "source": [
    "bottom_threshold = np.percentile(total_score, 10)"
   ]
  },
  {
   "cell_type": "code",
   "execution_count": 87,
   "id": "9c67eef1-47a0-492c-8f1d-3c4c16500d0a",
   "metadata": {},
   "outputs": [],
   "source": [
    "bottom_students = (total_score <= bottom_threshold).sum() "
   ]
  },
  {
   "cell_type": "code",
   "execution_count": 98,
   "id": "7c8c7d8a-0cc9-45d4-aa5e-8950c2188046",
   "metadata": {},
   "outputs": [
    {
     "name": "stdout",
     "output_type": "stream",
     "text": [
      "maximum score among the bottom 10% of students: 344.0\n"
     ]
    }
   ],
   "source": [
    "print(f\"maximum score among the bottom 10% of students: {bottom_threshold}\")"
   ]
  },
  {
   "cell_type": "code",
   "execution_count": 100,
   "id": "8af0cc86-016d-492a-b8be-9ab5c2e870c5",
   "metadata": {},
   "outputs": [
    {
     "name": "stdout",
     "output_type": "stream",
     "text": [
      "Number of students in bottom 10% of students: 12\n"
     ]
    }
   ],
   "source": [
    "print(f\"Number of students in bottom 10% of students: {bottom_students}\")"
   ]
  },
  {
   "cell_type": "markdown",
   "id": "c987f8ae-c8c8-442b-ac16-adb1dd1d571c",
   "metadata": {},
   "source": [
    "##### Students in Middle 50% : How many students scored between the 25th and 75th percentiles?"
   ]
  },
  {
   "cell_type": "code",
   "execution_count": 90,
   "id": "58ab2988-6b97-4f06-b900-c1e5b4968b5f",
   "metadata": {},
   "outputs": [],
   "source": [
    "twentyfive_percentile = np.percentile(total_score,25)"
   ]
  },
  {
   "cell_type": "code",
   "execution_count": 92,
   "id": "3caed68d-2f88-496d-aebc-90016cfc4ffe",
   "metadata": {},
   "outputs": [],
   "source": [
    "seventyfive_percentile = np.percentile(total_score,75)"
   ]
  },
  {
   "cell_type": "code",
   "execution_count": 93,
   "id": "d3d9fd98-2a4f-4461-a983-e4f6d9d51473",
   "metadata": {},
   "outputs": [],
   "source": [
    "num_middle_50 = ((twentyfive_percentile<= total_score) & (seventyfive_percentile >= total_score)).sum()"
   ]
  },
  {
   "cell_type": "code",
   "execution_count": 94,
   "id": "2aaa0a6a-7611-415f-a75d-6322d0658d02",
   "metadata": {},
   "outputs": [
    {
     "name": "stdout",
     "output_type": "stream",
     "text": [
      "Number of students in the middle 50% range: 53\n"
     ]
    }
   ],
   "source": [
    "print(f\"Number of students in the middle 50% range: {num_middle_50}\")"
   ]
  },
  {
   "cell_type": "markdown",
   "id": "2300674a-3df2-4526-bc7b-a17735aa01fd",
   "metadata": {},
   "source": [
    "## Visualize Subject-Wise Performance"
   ]
  },
  {
   "cell_type": "markdown",
   "id": "227b333a-cc0b-4ce7-bdce-ce8d520c40fc",
   "metadata": {},
   "source": [
    "##### The bar chart below shows the average score of the class in each subject. "
   ]
  },
  {
   "cell_type": "code",
   "execution_count": 101,
   "id": "2fbf8622-fe16-4611-8a66-8e9d6e025fe2",
   "metadata": {},
   "outputs": [],
   "source": [
    "import matplotlib.pyplot as plt"
   ]
  },
  {
   "cell_type": "code",
   "execution_count": 102,
   "id": "034f4482-f528-4276-b326-6087113fdc98",
   "metadata": {},
   "outputs": [],
   "source": [
    "subjects = ['Subject 1', 'Subject 2', 'Subject 3', 'Subject 4', 'Subject 5']\n"
   ]
  },
  {
   "cell_type": "code",
   "execution_count": 126,
   "id": "fc9a7bed-2e65-41f2-a31d-831caeee839d",
   "metadata": {},
   "outputs": [
    {
     "data": {
      "image/png": "[encoded data removed]",
      "text/plain": [
       "<Figure size 640x480 with 1 Axes>"
      ]
     },
     "metadata": {},
     "output_type": "display_data"
    }
   ],
   "source": [
    "for i, v in enumerate(average_score):\n",
    "    plt.text(i, v + 1, f\"{v:.1f}\", ha='center', fontsize=10)\n",
    "plt.bar(subjects, average_score, color = 'teal',width = 0.6)\n",
    "plt.title(\"Average Scores per Subject\",fontsize = 22)\n",
    "plt.xlabel(\"Subjects\",fontsize = 16)\n",
    "plt.ylabel(\"Average Score\",fontsize = 16)\n",
    "plt.tight_layout()\n",
    "plt.show()"
   ]
  },
  {
   "cell_type": "markdown",
   "id": "28e061d2-1f29-4050-8f87-41352326e55f",
   "metadata": {},
   "source": [
    "## Boxplot of Subject Scores"
   ]
  },
  {
   "cell_type": "markdown",
   "id": "48b21c4a-884b-47d8-9b84-531368e4cad0",
   "metadata": {},
   "source": [
    "##### The boxplot below shows the distribution of student scores for each subject, including minimum, maximum, quartiles, and any outliers."
   ]
  },
  {
   "cell_type": "code",
   "execution_count": 142,
   "id": "f8819733-8e35-4243-b0a2-fdeb555a1a38",
   "metadata": {
    "scrolled": true
   },
   "outputs": [
    {
     "data": {
      "image/png": "[encoded data removed]",
      "text/plain": [
       "<Figure size 640x480 with 1 Axes>"
      ]
     },
     "metadata": {},
     "output_type": "display_data"
    }
   ],
   "source": [
    "plt.boxplot(scores, patch_artist=True)\n",
    "plt.xticks([1, 2, 3, 4, 5], subjects)\n",
    "plt.title(\"Distribution of Scores per Subject\",fontsize =16)\n",
    "plt.ylabel(\"Score\",fontsize = 16)\n",
    "plt.show()"
   ]
  },
  {
   "cell_type": "code",
   "execution_count": null,
   "id": "8b244898-a63d-4f5a-9044-ab9d029f32dc",
   "metadata": {},
   "outputs": [],
   "source": []
  },
  {
   "cell_type": "code",
   "execution_count": null,
   "id": "c59325e5-f139-400d-bc89-40500f6e501d",
   "metadata": {},
   "outputs": [],
   "source": []
  }
 ],
 "metadata": {
  "kernelspec": {
   "display_name": "Python 3 (ipykernel)",
   "language": "python",
   "name": "python3"
  },
  "language_info": {
   "codemirror_mode": {
    "name": "ipython",
    "version": 3
   },
   "file_extension": ".py",
   "mimetype": "text/x-python",
   "name": "python",
   "nbconvert_exporter": "python",
   "pygments_lexer": "ipython3",
   "version": "3.12.0"
  }
 },
 "nbformat": 4,
 "nbformat_minor": 5
}
